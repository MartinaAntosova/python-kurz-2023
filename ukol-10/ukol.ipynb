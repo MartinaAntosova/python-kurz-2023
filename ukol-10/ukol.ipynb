{
 "cells": [
  {
   "cell_type": "code",
   "execution_count": 1,
   "metadata": {},
   "outputs": [],
   "source": [
    "# Naimportuj modul pandas.\n",
    "import pandas"
   ]
  },
  {
   "cell_type": "code",
   "execution_count": null,
   "metadata": {},
   "outputs": [],
   "source": [
    "# Načti data o zaměstnancích z Liberce do tabulky. \n",
    "zam_liberec = pandas.read_csv(\"zam_liberec.csv\")\n",
    "zam_liberec.head()"
   ]
  },
  {
   "cell_type": "code",
   "execution_count": null,
   "metadata": {},
   "outputs": [],
   "source": [
    "# Načti data o zaměstnancích z Plzně do tabulky.\n",
    "zam_plzen = pandas.read_csv(\"zam_plzen.csv\")\n",
    "zam_plzen.head()"
   ]
  },
  {
   "cell_type": "code",
   "execution_count": null,
   "metadata": {},
   "outputs": [],
   "source": [
    "# Načti data o zaměstnancích z Prahy do tabulky.\n",
    "zam_praha = pandas.read_csv(\"zam_praha.csv\")\n",
    "zam_praha.head()"
   ]
  },
  {
   "cell_type": "code",
   "execution_count": 11,
   "metadata": {},
   "outputs": [],
   "source": [
    "# Přidej ke každé tabulce sloupec mesto - informaci o tom, ve kterém městě zaměstnanec pracuje.\n",
    "zam_liberec['mesto'] = 'Liberec'\n",
    "zam_plzen['mesto'] = 'Plzeň'\n",
    "zam_praha['mesto'] = 'Praha'"
   ]
  },
  {
   "cell_type": "code",
   "execution_count": null,
   "metadata": {},
   "outputs": [],
   "source": [
    "# Vytvoř tabulku zamestnanci s informacemi o všech zaměstnancích.\n",
    "zamestnanci = pandas.concat([zam_liberec, zam_plzen, zam_praha], ignore_index=True)\n",
    "zamestnanci.to_csv('zamestnanci.csv', index=False)\n",
    "zamestnanci"
   ]
  },
  {
   "cell_type": "code",
   "execution_count": null,
   "metadata": {},
   "outputs": [],
   "source": [
    "# Načti platy zaměstnanců za únor 2021 ze souboru.\n",
    "platy_2021_02 = pandas.read_csv(\"platy_2021_02.csv\")\n",
    "platy_2021_02.head()"
   ]
  },
  {
   "cell_type": "code",
   "execution_count": null,
   "metadata": {},
   "outputs": [],
   "source": [
    "# Propoj tabulku s platy a tabulku se zaměstnanci pomocí sloupce cislo_zamestnance.\n",
    "platy_zamestnancu = pandas.merge(zamestnanci, platy_2021_02, on=\"cislo_zamestnance\", how=\"left\")\n",
    "platy_zamestnancu.to_csv('platy_zamestnancu.csv', index=False)\n",
    "platy_zamestnancu"
   ]
  },
  {
   "cell_type": "code",
   "execution_count": null,
   "metadata": {},
   "outputs": [],
   "source": [
    "# Pokud nemá některý zaměstnanec plat za únor, znamená to, že ve firmě již nepracuje. Odstraň tohoto zaměstnance z tabulky.\n",
    "platy_zamestnancu = pandas.read_csv('platy_zamestnancu.csv').dropna()\n",
    "platy_zamestnancu"
   ]
  },
  {
   "cell_type": "code",
   "execution_count": null,
   "metadata": {},
   "outputs": [],
   "source": [
    "# Spočti průměrný plat zaměstnanců v jednotlivých kancelářích.\n",
    "platy_zamestnancu.groupby('mesto')['plat'].mean()"
   ]
  }
 ],
 "metadata": {
  "kernelspec": {
   "display_name": "Python 3",
   "language": "python",
   "name": "python3"
  },
  "language_info": {
   "codemirror_mode": {
    "name": "ipython",
    "version": 3
   },
   "file_extension": ".py",
   "mimetype": "text/x-python",
   "name": "python",
   "nbconvert_exporter": "python",
   "pygments_lexer": "ipython3",
   "version": "3.9.10"
  },
  "orig_nbformat": 4
 },
 "nbformat": 4,
 "nbformat_minor": 2
}
