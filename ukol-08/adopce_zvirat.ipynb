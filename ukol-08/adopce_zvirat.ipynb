{
 "cells": [
  {
   "cell_type": "code",
   "execution_count": 1,
   "metadata": {},
   "outputs": [],
   "source": [
    "# Naimportuj modul pandas.\n",
    "import pandas"
   ]
  },
  {
   "cell_type": "code",
   "execution_count": null,
   "metadata": {},
   "outputs": [],
   "source": [
    "# Načti data. Nastav oddělovač na znak středníku. Využij parametr sep.\n",
    "adopce_zvirat = pandas.read_csv(\"adopce-zvirat.csv\", sep = \";\")\n",
    "adopce_zvirat"
   ]
  },
  {
   "cell_type": "code",
   "execution_count": null,
   "metadata": {},
   "outputs": [],
   "source": [
    "# Zobraz kolik má tabulka řádků.\n",
    "adopce_zvirat.shape[0]"
   ]
  },
  {
   "cell_type": "code",
   "execution_count": null,
   "metadata": {},
   "outputs": [],
   "source": [
    "# Zobraz kolik má tabulka sloupců.\n",
    "adopce_zvirat.shape[1]"
   ]
  },
  {
   "cell_type": "code",
   "execution_count": null,
   "metadata": {},
   "outputs": [],
   "source": [
    "# Zobraz názvy sloupců, které jsou v souboru uloženy.\n",
    "list(adopce_zvirat.columns)"
   ]
  },
  {
   "cell_type": "code",
   "execution_count": null,
   "metadata": {},
   "outputs": [],
   "source": [
    "# Zobraz, které zvíře se nachází na záznamu s indexem 34.\n",
    "adopce_zvirat.iloc[34]"
   ]
  },
  {
   "cell_type": "code",
   "execution_count": null,
   "metadata": {},
   "outputs": [],
   "source": [
    "# Vypiš název zvířete s indexem 34 v češtině.\n",
    "adopce_zvirat.iloc[\"34\",\"nazev_cz\"]"
   ]
  },
  {
   "cell_type": "code",
   "execution_count": null,
   "metadata": {},
   "outputs": [],
   "source": [
    "# Vypiš název zvířete s indexem 34 v angličtině.\n",
    "adopce_zvirat.iloc[\"34\",\"nazev_en\"]"
   ]
  }
 ],
 "metadata": {
  "kernelspec": {
   "display_name": "Python 3",
   "language": "python",
   "name": "python3"
  },
  "language_info": {
   "codemirror_mode": {
    "name": "ipython",
    "version": 3
   },
   "file_extension": ".py",
   "mimetype": "text/x-python",
   "name": "python",
   "nbconvert_exporter": "python",
   "pygments_lexer": "ipython3",
   "version": "3.9.10"
  },
  "orig_nbformat": 4
 },
 "nbformat": 4,
 "nbformat_minor": 2
}
